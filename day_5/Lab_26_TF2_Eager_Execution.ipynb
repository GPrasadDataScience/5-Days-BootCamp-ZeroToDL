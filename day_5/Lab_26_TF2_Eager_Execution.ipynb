{
 "cells": [
  {
   "cell_type": "markdown",
   "metadata": {},
   "source": [
    "# Eager Execution in Tensorflow 2.0"
   ]
  },
  {
   "cell_type": "code",
   "execution_count": 1,
   "metadata": {},
   "outputs": [],
   "source": [
    "import pandas as pd\n",
    "import numpy as np\n",
    "%matplotlib inline\n",
    "import matplotlib.pyplot as plt\n",
    "import tensorflow as tf"
   ]
  },
  {
   "cell_type": "markdown",
   "metadata": {},
   "source": [
    "## Tensor Operations"
   ]
  },
  {
   "cell_type": "code",
   "execution_count": 2,
   "metadata": {},
   "outputs": [
    {
     "data": {
      "text/plain": [
       "<tf.Tensor: id=2, shape=(), dtype=int32, numpy=3>"
      ]
     },
     "execution_count": 2,
     "metadata": {},
     "output_type": "execute_result"
    }
   ],
   "source": [
    "tf.add(1, 2)"
   ]
  },
  {
   "cell_type": "code",
   "execution_count": 3,
   "metadata": {},
   "outputs": [
    {
     "data": {
      "text/plain": [
       "<tf.Tensor: id=6, shape=(2,), dtype=int32, numpy=array([4, 6], dtype=int32)>"
      ]
     },
     "execution_count": 3,
     "metadata": {},
     "output_type": "execute_result"
    }
   ],
   "source": [
    "tf.add([1, 2], [3, 4])"
   ]
  },
  {
   "cell_type": "code",
   "execution_count": 4,
   "metadata": {},
   "outputs": [
    {
     "data": {
      "text/plain": [
       "<tf.Tensor: id=9, shape=(), dtype=int32, numpy=25>"
      ]
     },
     "execution_count": 4,
     "metadata": {},
     "output_type": "execute_result"
    }
   ],
   "source": [
    "tf.square(5)"
   ]
  },
  {
   "cell_type": "code",
   "execution_count": 5,
   "metadata": {},
   "outputs": [
    {
     "data": {
      "text/plain": [
       "<tf.Tensor: id=17, shape=(), dtype=int32, numpy=6>"
      ]
     },
     "execution_count": 5,
     "metadata": {},
     "output_type": "execute_result"
    }
   ],
   "source": [
    "tf.reduce_sum([1, 2, 3])"
   ]
  },
  {
   "cell_type": "code",
   "execution_count": 6,
   "metadata": {},
   "outputs": [
    {
     "data": {
      "text/plain": [
       "<tf.Tensor: id=23, shape=(), dtype=int32, numpy=13>"
      ]
     },
     "execution_count": 6,
     "metadata": {},
     "output_type": "execute_result"
    }
   ],
   "source": [
    "tf.square(2) + tf.square(3)"
   ]
  },
  {
   "cell_type": "code",
   "execution_count": 7,
   "metadata": {},
   "outputs": [],
   "source": [
    "x = tf.matmul([[1]], [[2, 3]])"
   ]
  },
  {
   "cell_type": "code",
   "execution_count": 8,
   "metadata": {},
   "outputs": [
    {
     "data": {
      "text/plain": [
       "TensorShape([1, 2])"
      ]
     },
     "execution_count": 8,
     "metadata": {},
     "output_type": "execute_result"
    }
   ],
   "source": [
    "x.shape"
   ]
  },
  {
   "cell_type": "code",
   "execution_count": 9,
   "metadata": {},
   "outputs": [
    {
     "data": {
      "text/plain": [
       "tf.int32"
      ]
     },
     "execution_count": 9,
     "metadata": {},
     "output_type": "execute_result"
    }
   ],
   "source": [
    "x.dtype"
   ]
  },
  {
   "cell_type": "code",
   "execution_count": 10,
   "metadata": {},
   "outputs": [
    {
     "data": {
      "text/plain": [
       "array([[2, 3]], dtype=int32)"
      ]
     },
     "execution_count": 10,
     "metadata": {},
     "output_type": "execute_result"
    }
   ],
   "source": [
    "x.numpy()"
   ]
  },
  {
   "cell_type": "markdown",
   "metadata": {},
   "source": [
    "## Custom Layers"
   ]
  },
  {
   "cell_type": "code",
   "execution_count": 195,
   "metadata": {},
   "outputs": [],
   "source": [
    "class MyDenseLayer(tf.keras.layers.Layer):\n",
    "    def __init__(self, num_outputs):\n",
    "        super(MyDenseLayer, self).__init__()\n",
    "        self.num_outputs = num_outputs\n",
    "    \n",
    "    def build(self, input_shape):\n",
    "        self.kernel = self.add_weight(\"kernel\", \n",
    "                                      shape=[int(input_shape[-1]), \n",
    "                                             self.num_outputs],\n",
    "                                      initializer='normal')\n",
    "    \n",
    "        self.bias = self.add_weight(\"bias\", \n",
    "                                    shape=[self.num_outputs,],\n",
    "                                    initializer='normal')\n",
    "\n",
    "    def call(self, inputs):\n",
    "        return tf.matmul(inputs, self.kernel) + self.bias"
   ]
  },
  {
   "cell_type": "code",
   "execution_count": 170,
   "metadata": {},
   "outputs": [],
   "source": [
    "from tensorflow.keras.models import Sequential\n",
    "from tensorflow.keras.layers import Activation"
   ]
  },
  {
   "cell_type": "code",
   "execution_count": 216,
   "metadata": {},
   "outputs": [],
   "source": [
    "model = Sequential([\n",
    "    MyDenseLayer(20),\n",
    "    Activation('relu'),\n",
    "    MyDenseLayer(3),\n",
    "])"
   ]
  },
  {
   "cell_type": "code",
   "execution_count": 217,
   "metadata": {},
   "outputs": [],
   "source": [
    "model.build(input_shape=(None, 4))"
   ]
  },
  {
   "cell_type": "code",
   "execution_count": 218,
   "metadata": {},
   "outputs": [
    {
     "name": "stdout",
     "output_type": "stream",
     "text": [
      "Model: \"sequential_9\"\n",
      "_________________________________________________________________\n",
      "Layer (type)                 Output Shape              Param #   \n",
      "=================================================================\n",
      "my_dense_layer_18 (MyDenseLa multiple                  100       \n",
      "_________________________________________________________________\n",
      "activation_9 (Activation)    multiple                  0         \n",
      "_________________________________________________________________\n",
      "my_dense_layer_19 (MyDenseLa multiple                  63        \n",
      "=================================================================\n",
      "Total params: 163\n",
      "Trainable params: 163\n",
      "Non-trainable params: 0\n",
      "_________________________________________________________________\n"
     ]
    }
   ],
   "source": [
    "model.summary()"
   ]
  },
  {
   "cell_type": "code",
   "execution_count": 219,
   "metadata": {},
   "outputs": [],
   "source": [
    "X = tf.random.normal([7, 4])"
   ]
  },
  {
   "cell_type": "code",
   "execution_count": 220,
   "metadata": {},
   "outputs": [
    {
     "data": {
      "text/plain": [
       "<tf.Tensor: id=557588, shape=(7, 4), dtype=float32, numpy=\n",
       "array([[ 1.0537682 , -0.08793408,  0.43695107,  0.07237347],\n",
       "       [ 0.31680015, -1.4092643 , -0.7347491 , -1.4623705 ],\n",
       "       [ 0.6114108 ,  0.14567526,  0.7957922 , -1.827938  ],\n",
       "       [ 1.0117613 , -0.9442826 ,  0.48324358,  0.7250189 ],\n",
       "       [-0.8699025 , -0.63343525, -1.7522963 ,  1.0099247 ],\n",
       "       [ 0.07518003, -0.30341572,  0.7334618 ,  0.7577722 ],\n",
       "       [ 0.25641388, -0.20596339,  0.45244467,  1.4912127 ]],\n",
       "      dtype=float32)>"
      ]
     },
     "execution_count": 220,
     "metadata": {},
     "output_type": "execute_result"
    }
   ],
   "source": [
    "X"
   ]
  },
  {
   "cell_type": "markdown",
   "metadata": {},
   "source": [
    "### Model works like a function:"
   ]
  },
  {
   "cell_type": "code",
   "execution_count": 221,
   "metadata": {},
   "outputs": [
    {
     "data": {
      "text/plain": [
       "<tf.Tensor: id=557598, shape=(7, 3), dtype=float32, numpy=\n",
       "array([[ 5.3942591e-02,  5.9121303e-02, -2.4688920e-02],\n",
       "       [ 3.1958692e-02,  6.0313798e-02, -1.9343466e-02],\n",
       "       [ 1.0793198e-02,  8.4620416e-02, -5.3711191e-02],\n",
       "       [ 5.2066226e-02,  5.8384191e-02, -1.0886148e-02],\n",
       "       [ 4.7191717e-02,  5.1462334e-02,  1.7925408e-03],\n",
       "       [ 4.4696957e-02,  6.0007419e-02, -1.2955684e-03],\n",
       "       [ 5.1862624e-02,  5.5538509e-02,  4.0862709e-05]], dtype=float32)>"
      ]
     },
     "execution_count": 221,
     "metadata": {},
     "output_type": "execute_result"
    }
   ],
   "source": [
    "model(X)"
   ]
  },
  {
   "cell_type": "code",
   "execution_count": 222,
   "metadata": {},
   "outputs": [
    {
     "data": {
      "text/html": [
       "<div>\n",
       "<style scoped>\n",
       "    .dataframe tbody tr th:only-of-type {\n",
       "        vertical-align: middle;\n",
       "    }\n",
       "\n",
       "    .dataframe tbody tr th {\n",
       "        vertical-align: top;\n",
       "    }\n",
       "\n",
       "    .dataframe thead th {\n",
       "        text-align: right;\n",
       "    }\n",
       "</style>\n",
       "<table border=\"1\" class=\"dataframe\">\n",
       "  <thead>\n",
       "    <tr style=\"text-align: right;\">\n",
       "      <th></th>\n",
       "      <th>sepal_length</th>\n",
       "      <th>sepal_width</th>\n",
       "      <th>petal_length</th>\n",
       "      <th>petal_width</th>\n",
       "      <th>species</th>\n",
       "    </tr>\n",
       "  </thead>\n",
       "  <tbody>\n",
       "    <tr>\n",
       "      <th>0</th>\n",
       "      <td>5.1</td>\n",
       "      <td>3.5</td>\n",
       "      <td>1.4</td>\n",
       "      <td>0.2</td>\n",
       "      <td>setosa</td>\n",
       "    </tr>\n",
       "    <tr>\n",
       "      <th>1</th>\n",
       "      <td>4.9</td>\n",
       "      <td>3.0</td>\n",
       "      <td>1.4</td>\n",
       "      <td>0.2</td>\n",
       "      <td>setosa</td>\n",
       "    </tr>\n",
       "    <tr>\n",
       "      <th>2</th>\n",
       "      <td>4.7</td>\n",
       "      <td>3.2</td>\n",
       "      <td>1.3</td>\n",
       "      <td>0.2</td>\n",
       "      <td>setosa</td>\n",
       "    </tr>\n",
       "    <tr>\n",
       "      <th>3</th>\n",
       "      <td>4.6</td>\n",
       "      <td>3.1</td>\n",
       "      <td>1.5</td>\n",
       "      <td>0.2</td>\n",
       "      <td>setosa</td>\n",
       "    </tr>\n",
       "    <tr>\n",
       "      <th>4</th>\n",
       "      <td>5.0</td>\n",
       "      <td>3.6</td>\n",
       "      <td>1.4</td>\n",
       "      <td>0.2</td>\n",
       "      <td>setosa</td>\n",
       "    </tr>\n",
       "  </tbody>\n",
       "</table>\n",
       "</div>"
      ],
      "text/plain": [
       "   sepal_length  sepal_width  petal_length  petal_width species\n",
       "0           5.1          3.5           1.4          0.2  setosa\n",
       "1           4.9          3.0           1.4          0.2  setosa\n",
       "2           4.7          3.2           1.3          0.2  setosa\n",
       "3           4.6          3.1           1.5          0.2  setosa\n",
       "4           5.0          3.6           1.4          0.2  setosa"
      ]
     },
     "execution_count": 222,
     "metadata": {},
     "output_type": "execute_result"
    }
   ],
   "source": [
    "df = pd.read_csv('../data/iris.csv')\n",
    "df.head()"
   ]
  },
  {
   "cell_type": "code",
   "execution_count": 223,
   "metadata": {},
   "outputs": [],
   "source": [
    "X = df[['sepal_length', 'sepal_width', 'petal_length', 'petal_width']].values.astype('float32')\n",
    "y = df['species'].map({\"setosa\": 0, \"versicolor\": 1, \"virginica\": 2}).values.astype('int32')"
   ]
  },
  {
   "cell_type": "markdown",
   "metadata": {},
   "source": [
    "### Datasets"
   ]
  },
  {
   "cell_type": "code",
   "execution_count": 224,
   "metadata": {},
   "outputs": [],
   "source": [
    "dataset = tf.data.Dataset.from_tensor_slices((X, y))\n",
    "dataset = dataset.shuffle(1000).repeat().batch(16)"
   ]
  },
  {
   "cell_type": "markdown",
   "metadata": {},
   "source": [
    "## One batch:"
   ]
  },
  {
   "cell_type": "code",
   "execution_count": 225,
   "metadata": {},
   "outputs": [
    {
     "name": "stdout",
     "output_type": "stream",
     "text": [
      "tf.Tensor(\n",
      "[[6.7 3.3 5.7 2.1]\n",
      " [6.3 2.3 4.4 1.3]\n",
      " [6.4 2.9 4.3 1.3]\n",
      " [6.2 2.8 4.8 1.8]\n",
      " [6.2 3.4 5.4 2.3]\n",
      " [5.7 2.5 5.  2. ]\n",
      " [6.1 3.  4.6 1.4]\n",
      " [5.5 3.5 1.3 0.2]\n",
      " [4.8 3.1 1.6 0.2]\n",
      " [4.6 3.6 1.  0.2]\n",
      " [5.1 2.5 3.  1.1]\n",
      " [6.  2.2 5.  1.5]\n",
      " [4.9 2.5 4.5 1.7]\n",
      " [6.3 3.4 5.6 2.4]\n",
      " [5.1 3.5 1.4 0.3]\n",
      " [6.5 3.  5.5 1.8]], shape=(16, 4), dtype=float32)\n",
      "tf.Tensor([2 1 1 2 2 2 1 0 0 0 1 2 2 2 0 2], shape=(16,), dtype=int32)\n",
      "Logits:  tf.Tensor(\n",
      "[[ 0.00348466  0.07851625 -0.10721572]\n",
      " [ 0.0220822   0.07577375 -0.10652293]\n",
      " [ 0.02371168  0.0787189  -0.10717645]\n",
      " [ 0.0173      0.0757914  -0.10057374]\n",
      " [ 0.00876131  0.07669704 -0.09690564]\n",
      " [ 0.01167361  0.0731988  -0.09251665]\n",
      " [ 0.0157009   0.07894739 -0.10352787]\n",
      " [ 0.0544504   0.08094069 -0.08436342]\n",
      " [ 0.04959407  0.07942908 -0.0823838 ]\n",
      " [ 0.05360587  0.07944155 -0.07470743]\n",
      " [ 0.0399408   0.07516129 -0.0866328 ]\n",
      " [ 0.00740556  0.07567847 -0.10241728]\n",
      " [ 0.01275474  0.07376041 -0.0837929 ]\n",
      " [ 0.00640018  0.0764465  -0.09788273]\n",
      " [ 0.05432378  0.07961078 -0.08218825]\n",
      " [ 0.00270888  0.07875527 -0.10740018]], shape=(16, 3), dtype=float32)\n"
     ]
    }
   ],
   "source": [
    "dataset.take(1)\n",
    "for data, labels in dataset.take(1):\n",
    "    print(data)\n",
    "    print(labels)\n",
    "    print(\"Logits: \", model(data))"
   ]
  },
  {
   "cell_type": "markdown",
   "metadata": {},
   "source": [
    "## Optimizer and Loss"
   ]
  },
  {
   "cell_type": "code",
   "execution_count": 226,
   "metadata": {},
   "outputs": [],
   "source": [
    "from tensorflow.keras.optimizers import Adam\n",
    "from tensorflow.keras.losses import SparseCategoricalCrossentropy"
   ]
  },
  {
   "cell_type": "code",
   "execution_count": 227,
   "metadata": {},
   "outputs": [],
   "source": [
    "optimizer = Adam()\n",
    "loss = SparseCategoricalCrossentropy(from_logits=True)"
   ]
  },
  {
   "cell_type": "code",
   "execution_count": 228,
   "metadata": {
    "scrolled": true
   },
   "outputs": [
    {
     "data": {
      "text/plain": [
       "<tf.Tensor: id=557643, shape=(16, 3), dtype=float32, numpy=\n",
       "array([[ 0.00348466,  0.07851625, -0.10721572],\n",
       "       [ 0.0220822 ,  0.07577375, -0.10652293],\n",
       "       [ 0.02371168,  0.0787189 , -0.10717645],\n",
       "       [ 0.0173    ,  0.0757914 , -0.10057374],\n",
       "       [ 0.00876131,  0.07669704, -0.09690564],\n",
       "       [ 0.01167361,  0.0731988 , -0.09251665],\n",
       "       [ 0.0157009 ,  0.07894739, -0.10352787],\n",
       "       [ 0.0544504 ,  0.08094069, -0.08436342],\n",
       "       [ 0.04959407,  0.07942908, -0.0823838 ],\n",
       "       [ 0.05360587,  0.07944155, -0.07470743],\n",
       "       [ 0.0399408 ,  0.07516129, -0.0866328 ],\n",
       "       [ 0.00740556,  0.07567847, -0.10241728],\n",
       "       [ 0.01275474,  0.07376041, -0.0837929 ],\n",
       "       [ 0.00640018,  0.0764465 , -0.09788273],\n",
       "       [ 0.05432378,  0.07961078, -0.08218825],\n",
       "       [ 0.00270888,  0.07875527, -0.10740018]], dtype=float32)>"
      ]
     },
     "execution_count": 228,
     "metadata": {},
     "output_type": "execute_result"
    }
   ],
   "source": [
    "logits = model(data)\n",
    "logits"
   ]
  },
  {
   "cell_type": "code",
   "execution_count": 229,
   "metadata": {},
   "outputs": [
    {
     "data": {
      "text/plain": [
       "1.1201406"
      ]
     },
     "execution_count": 229,
     "metadata": {},
     "output_type": "execute_result"
    }
   ],
   "source": [
    "loss(labels, logits).numpy()"
   ]
  },
  {
   "cell_type": "markdown",
   "metadata": {},
   "source": [
    "## Gradients"
   ]
  },
  {
   "cell_type": "code",
   "execution_count": 230,
   "metadata": {
    "scrolled": false
   },
   "outputs": [
    {
     "data": {
      "text/plain": [
       "[<tf.Tensor: id=557763, shape=(4, 20), dtype=float32, numpy=\n",
       " array([[ 0.        ,  0.        ,  0.0675901 ,  0.00927857,  0.08708616,\n",
       "         -0.03434665,  0.04728064,  0.03890901,  0.05362267, -0.0829242 ,\n",
       "          0.00925594, -0.06678808,  0.16582729,  0.01354121,  0.00148034,\n",
       "          0.        ,  0.        , -0.21995744,  0.        ,  0.0004162 ],\n",
       "        [ 0.        ,  0.        ,  0.04515456,  0.00386843,  0.05599882,\n",
       "         -0.01517142,  0.0332395 ,  0.00046434,  0.02054331, -0.02866804,\n",
       "         -0.01117873, -0.03143419,  0.07597946,  0.0048316 , -0.01948488,\n",
       "          0.        ,  0.        , -0.10450009,  0.        ,  0.01345415],\n",
       "        [ 0.        ,  0.        ,  0.04831098,  0.00458828,  0.06560149,\n",
       "         -0.02924332,  0.01076654,  0.06709859,  0.06184249, -0.10040776,\n",
       "          0.03333506, -0.06730536,  0.17208798,  0.01616504,  0.03256578,\n",
       "          0.        ,  0.        , -0.18666606,  0.        , -0.01997952],\n",
       "        [ 0.        ,  0.        ,  0.0201373 ,  0.00089845,  0.02722139,\n",
       "         -0.0102081 ,  0.00187263,  0.02652758,  0.02491518, -0.04034392,\n",
       "          0.012915  , -0.02718993,  0.06976649,  0.00650013,  0.01241872,\n",
       "          0.        ,  0.        , -0.06978724,  0.        , -0.00758433]],\n",
       "       dtype=float32)>,\n",
       " <tf.Tensor: id=557761, shape=(20,), dtype=float32, numpy=\n",
       " array([ 0.        ,  0.        ,  0.01254447,  0.00157896,  0.01587743,\n",
       "        -0.00551813,  0.00936314,  0.00387927,  0.00795182, -0.01189106,\n",
       "        -0.00055506, -0.0107074 ,  0.02622069,  0.00196143, -0.00240552,\n",
       "         0.        ,  0.        , -0.03629947,  0.        ,  0.00180215],\n",
       "       dtype=float32)>,\n",
       " <tf.Tensor: id=557752, shape=(20, 3), dtype=float32, numpy=\n",
       " array([[ 0.        ,  0.        ,  0.        ],\n",
       "        [ 0.        ,  0.        ,  0.        ],\n",
       "        [ 0.14174296,  0.06459501, -0.20633796],\n",
       "        [ 0.01669498,  0.00461825, -0.02131323],\n",
       "        [-0.00809733,  0.02093362, -0.01283629],\n",
       "        [ 0.00173516,  0.0018641 , -0.00359926],\n",
       "        [-0.00203764,  0.00109833,  0.00093931],\n",
       "        [ 0.00819991,  0.00074606, -0.00894597],\n",
       "        [ 0.03932349,  0.05208613, -0.09140962],\n",
       "        [ 0.07100587,  0.0510228 , -0.12202865],\n",
       "        [ 0.12061655,  0.06699357, -0.18761012],\n",
       "        [ 0.09173347,  0.0291291 , -0.12086257],\n",
       "        [ 0.07026119,  0.04605391, -0.1163151 ],\n",
       "        [ 0.06814853,  0.02465868, -0.09280722],\n",
       "        [-0.00950822,  0.02194474, -0.01243652],\n",
       "        [ 0.        ,  0.        ,  0.        ],\n",
       "        [ 0.        ,  0.        ,  0.        ],\n",
       "        [ 0.04427377,  0.02658345, -0.07085722],\n",
       "        [ 0.        ,  0.        ,  0.        ],\n",
       "        [ 0.02921695,  0.01912096, -0.04833792]], dtype=float32)>,\n",
       " <tf.Tensor: id=557750, shape=(3,), dtype=float32, numpy=array([ 0.08981939,  0.10842316, -0.19824255], dtype=float32)>]"
      ]
     },
     "execution_count": 230,
     "metadata": {},
     "output_type": "execute_result"
    }
   ],
   "source": [
    "def grad(model, inputs, targets):\n",
    "    with tf.GradientTape() as tape:\n",
    "        logits = model(data, training=True)\n",
    "        loss_value = loss(labels, logits)\n",
    "    return tape.gradient(loss_value, model.variables)\n",
    "\n",
    "grad(model, data, labels)"
   ]
  },
  {
   "cell_type": "code",
   "execution_count": 231,
   "metadata": {},
   "outputs": [],
   "source": [
    "gw1, gb1, gw2, gb2  = grad(model, data, labels)"
   ]
  },
  {
   "cell_type": "code",
   "execution_count": 232,
   "metadata": {},
   "outputs": [
    {
     "data": {
      "image/png": "[encoded data removed]",
      "text/plain": [
       "<Figure size 432x288 with 1 Axes>"
      ]
     },
     "metadata": {
      "needs_background": "light"
     },
     "output_type": "display_data"
    }
   ],
   "source": [
    "plt.imshow(gw1);"
   ]
  },
  {
   "cell_type": "code",
   "execution_count": 233,
   "metadata": {},
   "outputs": [
    {
     "data": {
      "image/png": "[encoded data removed]",
      "text/plain": [
       "<Figure size 432x288 with 1 Axes>"
      ]
     },
     "metadata": {
      "needs_background": "light"
     },
     "output_type": "display_data"
    }
   ],
   "source": [
    "plt.imshow(gw2);"
   ]
  },
  {
   "cell_type": "markdown",
   "metadata": {},
   "source": [
    "## Training Loop"
   ]
  },
  {
   "cell_type": "code",
   "execution_count": 234,
   "metadata": {},
   "outputs": [
    {
     "name": "stdout",
     "output_type": "stream",
     "text": [
      "0 1.1201406 0.25\n",
      "20 1.0627466 0.33333334\n",
      "40 1.0497134 0.37042683\n",
      "60 1.0085756 0.4170082\n",
      "80 0.92006564 0.48070988\n",
      "100 0.8619537 0.5179455\n",
      "120 0.82986516 0.5418388\n",
      "140 0.84869856 0.56028366\n",
      "160 0.6609833 0.574146\n",
      "180 0.58062565 0.5835635\n",
      "200 0.5974463 0.5942164\n",
      "220 0.64798146 0.6043552\n",
      "240 0.4732931 0.6159232\n",
      "260 0.46167126 0.6329023\n",
      "280 0.55009115 0.64590746\n",
      "300 0.48333395 0.6613372\n",
      "320 0.41116196 0.6775701\n",
      "340 0.38423276 0.6922654\n",
      "360 0.40117788 0.70671743\n",
      "380 0.37189448 0.7194882\n"
     ]
    }
   ],
   "source": [
    "loss_history = []\n",
    "accuracy_history = []\n",
    "acc = tf.keras.metrics.SparseCategoricalAccuracy()\n",
    "\n",
    "for (i, (data, labels)) in enumerate(dataset.take(400)):\n",
    "    with tf.GradientTape() as tape:\n",
    "        logits = model(data, training=True)\n",
    "        loss_value = loss(labels, logits)\n",
    "\n",
    "    loss_history.append(loss_value.numpy())\n",
    "    \n",
    "    grads = tape.gradient(loss_value, model.trainable_variables)\n",
    "    \n",
    "    optimizer.apply_gradients(zip(grads, model.trainable_variables))\n",
    "        \n",
    "    acc.update_state(labels, logits)\n",
    "    accuracy = acc.result().numpy()\n",
    "    accuracy_history.append(accuracy)\n",
    "    \n",
    "    if i % 20 == 0:\n",
    "        print(i, loss_value.numpy(), accuracy)"
   ]
  },
  {
   "cell_type": "code",
   "execution_count": 235,
   "metadata": {},
   "outputs": [
    {
     "data": {
      "text/plain": [
       "[<matplotlib.lines.Line2D at 0x7fcb75d104e0>]"
      ]
     },
     "execution_count": 235,
     "metadata": {},
     "output_type": "execute_result"
    },
    {
     "data": {
      "image/png": "[encoded data removed]",
      "text/plain": [
       "<Figure size 432x288 with 1 Axes>"
      ]
     },
     "metadata": {
      "needs_background": "light"
     },
     "output_type": "display_data"
    }
   ],
   "source": [
    "plt.plot(loss_history)\n",
    "plt.plot(accuracy_history)"
   ]
  },
  {
   "cell_type": "code",
   "execution_count": null,
   "metadata": {},
   "outputs": [],
   "source": []
  }
 ],
 "metadata": {
  "kernelspec": {
   "display_name": "Python 3",
   "language": "python",
   "name": "python3"
  },
  "language_info": {
   "codemirror_mode": {
    "name": "ipython",
    "version": 3
   },
   "file_extension": ".py",
   "mimetype": "text/x-python",
   "name": "python",
   "nbconvert_exporter": "python",
   "pygments_lexer": "ipython3",
   "version": "3.7.2"
  }
 },
 "nbformat": 4,
 "nbformat_minor": 2
}
