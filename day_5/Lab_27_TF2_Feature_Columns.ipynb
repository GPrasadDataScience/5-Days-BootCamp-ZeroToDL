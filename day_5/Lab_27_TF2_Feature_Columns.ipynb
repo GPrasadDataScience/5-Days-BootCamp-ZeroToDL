{
 "cells": [
  {
   "cell_type": "markdown",
   "metadata": {},
   "source": [
    "# Feature Columns in Tensorflow 2.0\n",
    "\n",
    "Inspired by https://www.tensorflow.org/alpha/tutorials/keras/feature_columns"
   ]
  },
  {
   "cell_type": "code",
   "execution_count": 1,
   "metadata": {},
   "outputs": [],
   "source": [
    "import numpy as np\n",
    "import pandas as pd\n",
    "import tensorflow as tf\n",
    "import matplotlib.pyplot as plt\n",
    "%matplotlib inline"
   ]
  },
  {
   "cell_type": "code",
   "execution_count": 2,
   "metadata": {},
   "outputs": [],
   "source": [
    "df = pd.read_csv('../data/australian_credit.csv')"
   ]
  },
  {
   "cell_type": "markdown",
   "metadata": {},
   "source": [
    "- Data adapted from [here](https://archive.ics.uci.edu/ml/machine-learning-databases/credit-screening/crx.data)\n",
    "- Attributes from [here](https://www.researchgate.net/publication/3297254_A_Compact_and_Accurate_Model_for_Classification)\n",
    "\n",
    "\n",
    "|Column| Values| Type|\n",
    "| :--- | :---  | :--- |\n",
    "|A1 (Sex) |  0, 1 |Nominal|\n",
    "|A2 (Age) |  13.75 - 80.25 |Continuous|\n",
    "|A3 (Mean time at addresses) |  0 - 28 |Continuous|\n",
    "|A4 (Home status) |  1, 2, 3 |Nominal|\n",
    "|A5 (Current occupation) |  1 - 14 |Nominal|\n",
    "|A6 (Current job status) |  1 - 9 |Nominal|\n",
    "|A7 (Mean time with employers) |  0 - 28.5 |Continuous|\n",
    "|A8 (Other investments) |  0, 1 |Nominal|\n",
    "|A9 (Bank account) |  0, 1 |Nominal|\n",
    "|A10 (Time with bank) |  0 - 67 |Continuous|\n",
    "|A11 (Liability reference) |  0, 1 |Nominal|\n",
    "|A12 (Account reference) |  1, 2, 3 |Nominal|\n",
    "|A13 (Monthly housing expense) |  0 - 2000 |Continuous|\n",
    "|A14 (Savings account balance) |  1 - 100001 |Continuous| "
   ]
  },
  {
   "cell_type": "code",
   "execution_count": 3,
   "metadata": {},
   "outputs": [
    {
     "data": {
      "text/html": [
       "<div>\n",
       "<style scoped>\n",
       "    .dataframe tbody tr th:only-of-type {\n",
       "        vertical-align: middle;\n",
       "    }\n",
       "\n",
       "    .dataframe tbody tr th {\n",
       "        vertical-align: top;\n",
       "    }\n",
       "\n",
       "    .dataframe thead th {\n",
       "        text-align: right;\n",
       "    }\n",
       "</style>\n",
       "<table border=\"1\" class=\"dataframe\">\n",
       "  <thead>\n",
       "    <tr style=\"text-align: right;\">\n",
       "      <th></th>\n",
       "      <th>sex</th>\n",
       "      <th>age</th>\n",
       "      <th>time_at_addr</th>\n",
       "      <th>home_status</th>\n",
       "      <th>occupation</th>\n",
       "      <th>job_status</th>\n",
       "      <th>time_w_empl</th>\n",
       "      <th>investments</th>\n",
       "      <th>bank_account</th>\n",
       "      <th>time_w_bank</th>\n",
       "      <th>liability_ref</th>\n",
       "      <th>account_ref</th>\n",
       "      <th>monthly_housing</th>\n",
       "      <th>savings_balance</th>\n",
       "      <th>class</th>\n",
       "    </tr>\n",
       "  </thead>\n",
       "  <tbody>\n",
       "    <tr>\n",
       "      <th>0</th>\n",
       "      <td>b</td>\n",
       "      <td>30.83</td>\n",
       "      <td>0.000</td>\n",
       "      <td>u</td>\n",
       "      <td>w</td>\n",
       "      <td>v</td>\n",
       "      <td>1.25</td>\n",
       "      <td>t</td>\n",
       "      <td>t</td>\n",
       "      <td>1</td>\n",
       "      <td>f</td>\n",
       "      <td>g</td>\n",
       "      <td>202.0</td>\n",
       "      <td>0</td>\n",
       "      <td>1</td>\n",
       "    </tr>\n",
       "    <tr>\n",
       "      <th>1</th>\n",
       "      <td>a</td>\n",
       "      <td>58.67</td>\n",
       "      <td>4.460</td>\n",
       "      <td>u</td>\n",
       "      <td>q</td>\n",
       "      <td>h</td>\n",
       "      <td>3.04</td>\n",
       "      <td>t</td>\n",
       "      <td>t</td>\n",
       "      <td>6</td>\n",
       "      <td>f</td>\n",
       "      <td>g</td>\n",
       "      <td>43.0</td>\n",
       "      <td>560</td>\n",
       "      <td>1</td>\n",
       "    </tr>\n",
       "    <tr>\n",
       "      <th>2</th>\n",
       "      <td>a</td>\n",
       "      <td>24.50</td>\n",
       "      <td>0.500</td>\n",
       "      <td>u</td>\n",
       "      <td>q</td>\n",
       "      <td>h</td>\n",
       "      <td>1.50</td>\n",
       "      <td>t</td>\n",
       "      <td>f</td>\n",
       "      <td>0</td>\n",
       "      <td>f</td>\n",
       "      <td>g</td>\n",
       "      <td>280.0</td>\n",
       "      <td>824</td>\n",
       "      <td>1</td>\n",
       "    </tr>\n",
       "    <tr>\n",
       "      <th>3</th>\n",
       "      <td>b</td>\n",
       "      <td>27.83</td>\n",
       "      <td>1.540</td>\n",
       "      <td>u</td>\n",
       "      <td>w</td>\n",
       "      <td>v</td>\n",
       "      <td>3.75</td>\n",
       "      <td>t</td>\n",
       "      <td>t</td>\n",
       "      <td>5</td>\n",
       "      <td>t</td>\n",
       "      <td>g</td>\n",
       "      <td>100.0</td>\n",
       "      <td>3</td>\n",
       "      <td>1</td>\n",
       "    </tr>\n",
       "    <tr>\n",
       "      <th>4</th>\n",
       "      <td>b</td>\n",
       "      <td>20.17</td>\n",
       "      <td>5.625</td>\n",
       "      <td>u</td>\n",
       "      <td>w</td>\n",
       "      <td>v</td>\n",
       "      <td>1.71</td>\n",
       "      <td>t</td>\n",
       "      <td>f</td>\n",
       "      <td>0</td>\n",
       "      <td>f</td>\n",
       "      <td>s</td>\n",
       "      <td>120.0</td>\n",
       "      <td>0</td>\n",
       "      <td>1</td>\n",
       "    </tr>\n",
       "  </tbody>\n",
       "</table>\n",
       "</div>"
      ],
      "text/plain": [
       "  sex    age  time_at_addr home_status occupation job_status  time_w_empl  \\\n",
       "0   b  30.83         0.000           u          w          v         1.25   \n",
       "1   a  58.67         4.460           u          q          h         3.04   \n",
       "2   a  24.50         0.500           u          q          h         1.50   \n",
       "3   b  27.83         1.540           u          w          v         3.75   \n",
       "4   b  20.17         5.625           u          w          v         1.71   \n",
       "\n",
       "  investments bank_account  time_w_bank liability_ref account_ref  \\\n",
       "0           t            t            1             f           g   \n",
       "1           t            t            6             f           g   \n",
       "2           t            f            0             f           g   \n",
       "3           t            t            5             t           g   \n",
       "4           t            f            0             f           s   \n",
       "\n",
       "   monthly_housing  savings_balance  class  \n",
       "0            202.0                0      1  \n",
       "1             43.0              560      1  \n",
       "2            280.0              824      1  \n",
       "3            100.0                3      1  \n",
       "4            120.0                0      1  "
      ]
     },
     "execution_count": 3,
     "metadata": {},
     "output_type": "execute_result"
    }
   ],
   "source": [
    "df.head()"
   ]
  },
  {
   "cell_type": "code",
   "execution_count": 4,
   "metadata": {},
   "outputs": [
    {
     "name": "stdout",
     "output_type": "stream",
     "text": [
      "<class 'pandas.core.frame.DataFrame'>\n",
      "RangeIndex: 653 entries, 0 to 652\n",
      "Data columns (total 15 columns):\n",
      "sex                653 non-null object\n",
      "age                653 non-null float64\n",
      "time_at_addr       653 non-null float64\n",
      "home_status        653 non-null object\n",
      "occupation         653 non-null object\n",
      "job_status         653 non-null object\n",
      "time_w_empl        653 non-null float64\n",
      "investments        653 non-null object\n",
      "bank_account       653 non-null object\n",
      "time_w_bank        653 non-null int64\n",
      "liability_ref      653 non-null object\n",
      "account_ref        653 non-null object\n",
      "monthly_housing    653 non-null float64\n",
      "savings_balance    653 non-null int64\n",
      "class              653 non-null int64\n",
      "dtypes: float64(4), int64(3), object(8)\n",
      "memory usage: 76.6+ KB\n"
     ]
    }
   ],
   "source": [
    "df.info()"
   ]
  },
  {
   "cell_type": "code",
   "execution_count": 5,
   "metadata": {},
   "outputs": [
    {
     "data": {
      "text/html": [
       "<div>\n",
       "<style scoped>\n",
       "    .dataframe tbody tr th:only-of-type {\n",
       "        vertical-align: middle;\n",
       "    }\n",
       "\n",
       "    .dataframe tbody tr th {\n",
       "        vertical-align: top;\n",
       "    }\n",
       "\n",
       "    .dataframe thead th {\n",
       "        text-align: right;\n",
       "    }\n",
       "</style>\n",
       "<table border=\"1\" class=\"dataframe\">\n",
       "  <thead>\n",
       "    <tr style=\"text-align: right;\">\n",
       "      <th></th>\n",
       "      <th>age</th>\n",
       "      <th>time_at_addr</th>\n",
       "      <th>time_w_empl</th>\n",
       "      <th>time_w_bank</th>\n",
       "      <th>monthly_housing</th>\n",
       "      <th>savings_balance</th>\n",
       "      <th>class</th>\n",
       "    </tr>\n",
       "  </thead>\n",
       "  <tbody>\n",
       "    <tr>\n",
       "      <th>count</th>\n",
       "      <td>653.000000</td>\n",
       "      <td>653.000000</td>\n",
       "      <td>653.000000</td>\n",
       "      <td>653.000000</td>\n",
       "      <td>653.000000</td>\n",
       "      <td>653.000000</td>\n",
       "      <td>653.000000</td>\n",
       "    </tr>\n",
       "    <tr>\n",
       "      <th>mean</th>\n",
       "      <td>31.503813</td>\n",
       "      <td>4.829533</td>\n",
       "      <td>2.244296</td>\n",
       "      <td>2.502297</td>\n",
       "      <td>180.359877</td>\n",
       "      <td>1013.761103</td>\n",
       "      <td>0.453292</td>\n",
       "    </tr>\n",
       "    <tr>\n",
       "      <th>std</th>\n",
       "      <td>11.838267</td>\n",
       "      <td>5.027077</td>\n",
       "      <td>3.371120</td>\n",
       "      <td>4.968497</td>\n",
       "      <td>168.296811</td>\n",
       "      <td>5253.278504</td>\n",
       "      <td>0.498195</td>\n",
       "    </tr>\n",
       "    <tr>\n",
       "      <th>min</th>\n",
       "      <td>13.750000</td>\n",
       "      <td>0.000000</td>\n",
       "      <td>0.000000</td>\n",
       "      <td>0.000000</td>\n",
       "      <td>0.000000</td>\n",
       "      <td>0.000000</td>\n",
       "      <td>0.000000</td>\n",
       "    </tr>\n",
       "    <tr>\n",
       "      <th>25%</th>\n",
       "      <td>22.580000</td>\n",
       "      <td>1.040000</td>\n",
       "      <td>0.165000</td>\n",
       "      <td>0.000000</td>\n",
       "      <td>73.000000</td>\n",
       "      <td>0.000000</td>\n",
       "      <td>0.000000</td>\n",
       "    </tr>\n",
       "    <tr>\n",
       "      <th>50%</th>\n",
       "      <td>28.420000</td>\n",
       "      <td>2.835000</td>\n",
       "      <td>1.000000</td>\n",
       "      <td>0.000000</td>\n",
       "      <td>160.000000</td>\n",
       "      <td>5.000000</td>\n",
       "      <td>0.000000</td>\n",
       "    </tr>\n",
       "    <tr>\n",
       "      <th>75%</th>\n",
       "      <td>38.250000</td>\n",
       "      <td>7.500000</td>\n",
       "      <td>2.625000</td>\n",
       "      <td>3.000000</td>\n",
       "      <td>272.000000</td>\n",
       "      <td>400.000000</td>\n",
       "      <td>1.000000</td>\n",
       "    </tr>\n",
       "    <tr>\n",
       "      <th>max</th>\n",
       "      <td>76.750000</td>\n",
       "      <td>28.000000</td>\n",
       "      <td>28.500000</td>\n",
       "      <td>67.000000</td>\n",
       "      <td>2000.000000</td>\n",
       "      <td>100000.000000</td>\n",
       "      <td>1.000000</td>\n",
       "    </tr>\n",
       "  </tbody>\n",
       "</table>\n",
       "</div>"
      ],
      "text/plain": [
       "              age  time_at_addr  time_w_empl  time_w_bank  monthly_housing  \\\n",
       "count  653.000000    653.000000   653.000000   653.000000       653.000000   \n",
       "mean    31.503813      4.829533     2.244296     2.502297       180.359877   \n",
       "std     11.838267      5.027077     3.371120     4.968497       168.296811   \n",
       "min     13.750000      0.000000     0.000000     0.000000         0.000000   \n",
       "25%     22.580000      1.040000     0.165000     0.000000        73.000000   \n",
       "50%     28.420000      2.835000     1.000000     0.000000       160.000000   \n",
       "75%     38.250000      7.500000     2.625000     3.000000       272.000000   \n",
       "max     76.750000     28.000000    28.500000    67.000000      2000.000000   \n",
       "\n",
       "       savings_balance       class  \n",
       "count       653.000000  653.000000  \n",
       "mean       1013.761103    0.453292  \n",
       "std        5253.278504    0.498195  \n",
       "min           0.000000    0.000000  \n",
       "25%           0.000000    0.000000  \n",
       "50%           5.000000    0.000000  \n",
       "75%         400.000000    1.000000  \n",
       "max      100000.000000    1.000000  "
      ]
     },
     "execution_count": 5,
     "metadata": {},
     "output_type": "execute_result"
    }
   ],
   "source": [
    "df.describe()"
   ]
  },
  {
   "cell_type": "code",
   "execution_count": 6,
   "metadata": {},
   "outputs": [],
   "source": [
    "from sklearn.model_selection import train_test_split"
   ]
  },
  {
   "cell_type": "code",
   "execution_count": 7,
   "metadata": {},
   "outputs": [],
   "source": [
    "train_val, test = train_test_split(df, test_size=0.2, random_state=0)\n",
    "train, val = train_test_split(train_val, test_size=0.2, random_state=0)"
   ]
  },
  {
   "cell_type": "code",
   "execution_count": 8,
   "metadata": {},
   "outputs": [
    {
     "data": {
      "text/plain": [
       "(417, 15)"
      ]
     },
     "execution_count": 8,
     "metadata": {},
     "output_type": "execute_result"
    }
   ],
   "source": [
    "train.shape"
   ]
  },
  {
   "cell_type": "code",
   "execution_count": 9,
   "metadata": {},
   "outputs": [
    {
     "data": {
      "text/plain": [
       "(105, 15)"
      ]
     },
     "execution_count": 9,
     "metadata": {},
     "output_type": "execute_result"
    }
   ],
   "source": [
    "val.shape"
   ]
  },
  {
   "cell_type": "code",
   "execution_count": 10,
   "metadata": {},
   "outputs": [
    {
     "data": {
      "text/plain": [
       "(131, 15)"
      ]
     },
     "execution_count": 10,
     "metadata": {},
     "output_type": "execute_result"
    }
   ],
   "source": [
    "test.shape"
   ]
  },
  {
   "cell_type": "markdown",
   "metadata": {},
   "source": [
    "## Batch generation with tf.data.Dataset"
   ]
  },
  {
   "cell_type": "code",
   "execution_count": 11,
   "metadata": {},
   "outputs": [],
   "source": [
    "def df_to_dataset(dataframe, shuffle=True, batch_size=32):\n",
    "    dataframe = dataframe.copy()\n",
    "    labels = dataframe.pop('class')\n",
    "    ds = tf.data.Dataset.from_tensor_slices((dict(dataframe), labels))\n",
    "    if shuffle:\n",
    "        ds = ds.shuffle(buffer_size=len(dataframe))\n",
    "    ds = ds.batch(batch_size)\n",
    "    return ds"
   ]
  },
  {
   "cell_type": "code",
   "execution_count": 12,
   "metadata": {},
   "outputs": [],
   "source": [
    "batch_size = 5"
   ]
  },
  {
   "cell_type": "code",
   "execution_count": 13,
   "metadata": {},
   "outputs": [],
   "source": [
    "train_ds = df_to_dataset(train, batch_size=batch_size)\n",
    "val_ds = df_to_dataset(val, shuffle=False, batch_size=batch_size)\n",
    "test_ds = df_to_dataset(test, shuffle=False, batch_size=batch_size)"
   ]
  },
  {
   "cell_type": "code",
   "execution_count": 14,
   "metadata": {},
   "outputs": [
    {
     "name": "stdout",
     "output_type": "stream",
     "text": [
      "Every feature: ['sex', 'age', 'time_at_addr', 'home_status', 'occupation', 'job_status', 'time_w_empl', 'investments', 'bank_account', 'time_w_bank', 'liability_ref', 'account_ref', 'monthly_housing', 'savings_balance']\n",
      "A batch of ages: tf.Tensor([32.75 28.25 27.83 28.58 22.92], shape=(5,), dtype=float64)\n",
      "A batch of targets: tf.Tensor([1 1 0 0 0], shape=(5,), dtype=int32)\n"
     ]
    }
   ],
   "source": [
    "for feature_batch, label_batch in train_ds.take(1):\n",
    "    print('Every feature:', list(feature_batch.keys()))\n",
    "    print('A batch of ages:', feature_batch['age'])\n",
    "    print('A batch of targets:', label_batch )"
   ]
  },
  {
   "cell_type": "code",
   "execution_count": 15,
   "metadata": {},
   "outputs": [],
   "source": [
    "example_batch = next(iter(train_ds))[0]"
   ]
  },
  {
   "cell_type": "markdown",
   "metadata": {},
   "source": [
    "## Feature Columns"
   ]
  },
  {
   "cell_type": "code",
   "execution_count": 16,
   "metadata": {},
   "outputs": [],
   "source": [
    "def demo(feature_column):\n",
    "    feature_layer = tf.keras.layers.DenseFeatures(feature_column)\n",
    "    print(feature_layer(example_batch).numpy())"
   ]
  },
  {
   "cell_type": "code",
   "execution_count": 17,
   "metadata": {},
   "outputs": [
    {
     "name": "stderr",
     "output_type": "stream",
     "text": [
      "WARNING: Logging before flag parsing goes to stderr.\n",
      "W0329 06:11:42.114364 139783543281408 deprecation.py:323] From /home/ubuntu/miniconda3/lib/python3.7/site-packages/tensorflow/python/feature_column/feature_column_v2.py:2758: to_float (from tensorflow.python.ops.math_ops) is deprecated and will be removed in a future version.\n",
      "Instructions for updating:\n",
      "Use `tf.cast` instead.\n"
     ]
    },
    {
     "name": "stdout",
     "output_type": "stream",
     "text": [
      "[[32.75]\n",
      " [28.25]\n",
      " [27.83]\n",
      " [28.58]\n",
      " [22.92]]\n"
     ]
    }
   ],
   "source": [
    "age = tf.feature_column.numeric_column(\"age\")\n",
    "demo(age)"
   ]
  },
  {
   "cell_type": "code",
   "execution_count": 18,
   "metadata": {},
   "outputs": [
    {
     "name": "stderr",
     "output_type": "stream",
     "text": [
      "W0329 06:11:42.127237 139783543281408 deprecation.py:323] From /home/ubuntu/miniconda3/lib/python3.7/site-packages/tensorflow/python/feature_column/feature_column_v2.py:2902: to_int64 (from tensorflow.python.ops.math_ops) is deprecated and will be removed in a future version.\n",
      "Instructions for updating:\n",
      "Use `tf.cast` instead.\n"
     ]
    },
    {
     "name": "stdout",
     "output_type": "stream",
     "text": [
      "[[0. 0. 0. 1. 0. 0. 0. 0. 0. 0. 0.]\n",
      " [0. 0. 1. 0. 0. 0. 0. 0. 0. 0. 0.]\n",
      " [0. 0. 1. 0. 0. 0. 0. 0. 0. 0. 0.]\n",
      " [0. 0. 1. 0. 0. 0. 0. 0. 0. 0. 0.]\n",
      " [0. 1. 0. 0. 0. 0. 0. 0. 0. 0. 0.]]\n"
     ]
    }
   ],
   "source": [
    "age_buckets = tf.feature_column.bucketized_column(age, boundaries=[18, 25, 30, 35, 40, 45, 50, 55, 60, 65])\n",
    "demo(age_buckets)"
   ]
  },
  {
   "cell_type": "code",
   "execution_count": 19,
   "metadata": {},
   "outputs": [
    {
     "data": {
      "text/plain": [
       "array(['w', 'q', 'm', 'r', 'cc', 'k', 'c', 'd', 'x', 'i', 'e', 'aa', 'ff',\n",
       "       'j'], dtype=object)"
      ]
     },
     "execution_count": 19,
     "metadata": {},
     "output_type": "execute_result"
    }
   ],
   "source": [
    "occupation_vocab = df['occupation'].unique()\n",
    "occupation_vocab"
   ]
  },
  {
   "cell_type": "code",
   "execution_count": 20,
   "metadata": {},
   "outputs": [
    {
     "name": "stderr",
     "output_type": "stream",
     "text": [
      "W0329 06:11:42.396471 139783543281408 deprecation.py:323] From /home/ubuntu/miniconda3/lib/python3.7/site-packages/tensorflow/python/feature_column/feature_column_v2.py:4307: IndicatorColumn._variable_shape (from tensorflow.python.feature_column.feature_column_v2) is deprecated and will be removed in a future version.\n",
      "Instructions for updating:\n",
      "The old _FeatureColumn APIs are being deprecated. Please use the new FeatureColumn APIs instead.\n",
      "W0329 06:11:42.397321 139783543281408 deprecation.py:323] From /home/ubuntu/miniconda3/lib/python3.7/site-packages/tensorflow/python/feature_column/feature_column_v2.py:4362: VocabularyListCategoricalColumn._num_buckets (from tensorflow.python.feature_column.feature_column_v2) is deprecated and will be removed in a future version.\n",
      "Instructions for updating:\n",
      "The old _FeatureColumn APIs are being deprecated. Please use the new FeatureColumn APIs instead.\n"
     ]
    },
    {
     "name": "stdout",
     "output_type": "stream",
     "text": [
      "[[0. 0. 0. 0. 1. 0. 0. 0. 0. 0. 0. 0. 0. 0.]\n",
      " [0. 0. 0. 0. 0. 0. 1. 0. 0. 0. 0. 0. 0. 0.]\n",
      " [0. 0. 0. 0. 0. 0. 0. 0. 0. 1. 0. 0. 0. 0.]\n",
      " [0. 0. 0. 0. 0. 0. 0. 0. 0. 1. 0. 0. 0. 0.]\n",
      " [0. 0. 1. 0. 0. 0. 0. 0. 0. 0. 0. 0. 0. 0.]]\n"
     ]
    }
   ],
   "source": [
    "occupation = tf.feature_column.categorical_column_with_vocabulary_list(\n",
    "      'occupation', occupation_vocab)\n",
    "occupation_one_hot = tf.feature_column.indicator_column(occupation)\n",
    "demo(occupation_one_hot)"
   ]
  },
  {
   "cell_type": "code",
   "execution_count": 21,
   "metadata": {},
   "outputs": [
    {
     "name": "stdout",
     "output_type": "stream",
     "text": [
      "[[ 0.00183103 -0.6234342  -0.03435355  0.2713414  -0.18070084  0.04156457\n",
      "   0.15374899  0.3670841 ]\n",
      " [ 0.37766615 -0.53194654 -0.40429667 -0.3435668  -0.46379837 -0.20837507\n",
      "  -0.17402548 -0.39803824]\n",
      " [ 0.38586622 -0.08016809 -0.21165289 -0.5197539   0.1008313   0.20515911\n",
      "   0.02135343 -0.0274979 ]\n",
      " [ 0.38586622 -0.08016809 -0.21165289 -0.5197539   0.1008313   0.20515911\n",
      "   0.02135343 -0.0274979 ]\n",
      " [ 0.07441183  0.38172042  0.48825887  0.18285328 -0.09967142  0.5593369\n",
      "  -0.5063273   0.39926842]]\n"
     ]
    }
   ],
   "source": [
    "occupation_embedding = tf.feature_column.embedding_column(occupation, dimension=8)\n",
    "demo(occupation_embedding)"
   ]
  },
  {
   "cell_type": "code",
   "execution_count": 33,
   "metadata": {},
   "outputs": [
    {
     "name": "stdout",
     "output_type": "stream",
     "text": [
      "[[0. 0. 0. ... 0. 0. 0.]\n",
      " [0. 0. 0. ... 0. 0. 0.]\n",
      " [0. 0. 0. ... 0. 0. 0.]\n",
      " [0. 0. 0. ... 0. 0. 0.]\n",
      " [0. 0. 0. ... 0. 0. 0.]]\n"
     ]
    }
   ],
   "source": [
    "occupation_hashed = tf.feature_column.categorical_column_with_hash_bucket(\n",
    "      'occupation', hash_bucket_size=1000)\n",
    "occupation_hashed = tf.feature_column.indicator_column(occupation_hashed)\n",
    "demo(occupation_hashed)"
   ]
  },
  {
   "cell_type": "code",
   "execution_count": 32,
   "metadata": {},
   "outputs": [
    {
     "name": "stdout",
     "output_type": "stream",
     "text": [
      "[[0. 0. 0. ... 0. 0. 0.]\n",
      " [0. 0. 0. ... 0. 0. 0.]\n",
      " [0. 0. 0. ... 0. 0. 0.]\n",
      " [0. 0. 0. ... 0. 0. 0.]\n",
      " [0. 0. 0. ... 0. 0. 0.]]\n"
     ]
    }
   ],
   "source": [
    "crossed_feature = tf.feature_column.crossed_column([age_buckets, occupation], hash_bucket_size=1000)\n",
    "crossed_feature = tf.feature_column.indicator_column(crossed_feature)\n",
    "demo(crossed_feature)"
   ]
  },
  {
   "cell_type": "code",
   "execution_count": 36,
   "metadata": {},
   "outputs": [],
   "source": [
    "numeric_cols = ['age', 'time_at_addr', 'time_w_empl', 'time_w_bank', 'monthly_housing', 'savings_balance']"
   ]
  },
  {
   "cell_type": "code",
   "execution_count": 38,
   "metadata": {},
   "outputs": [],
   "source": [
    "feature_columns = []\n",
    "\n",
    "for c in numeric_cols:\n",
    "    feature_columns.append(tf.feature_column.numeric_column(c))\n",
    "    \n",
    "feature_columns.append(age_buckets)\n",
    "feature_columns.append(occupation_one_hot)\n",
    "feature_columns.append(occupation_embedding)\n",
    "feature_columns.append(crossed_feature)"
   ]
  },
  {
   "cell_type": "markdown",
   "metadata": {},
   "source": [
    "## Model Train and Evaluate"
   ]
  },
  {
   "cell_type": "markdown",
   "metadata": {},
   "source": [
    "### Baseline"
   ]
  },
  {
   "cell_type": "code",
   "execution_count": 87,
   "metadata": {},
   "outputs": [
    {
     "data": {
      "text/plain": [
       "0    0.546708\n",
       "1    0.453292\n",
       "Name: class, dtype: float64"
      ]
     },
     "execution_count": 87,
     "metadata": {},
     "output_type": "execute_result"
    }
   ],
   "source": [
    "classes_ratio = df['class'].value_counts() / len(df)\n",
    "classes_ratio"
   ]
  },
  {
   "cell_type": "code",
   "execution_count": 88,
   "metadata": {},
   "outputs": [
    {
     "data": {
      "text/plain": [
       "0.5467075038284839"
      ]
     },
     "execution_count": 88,
     "metadata": {},
     "output_type": "execute_result"
    }
   ],
   "source": [
    "baseline = classes_ratio[0]\n",
    "baseline"
   ]
  },
  {
   "cell_type": "markdown",
   "metadata": {},
   "source": [
    "### Model"
   ]
  },
  {
   "cell_type": "code",
   "execution_count": 67,
   "metadata": {},
   "outputs": [],
   "source": [
    "from tensorflow.keras.layers import Dense, DenseFeatures\n",
    "from tensorflow.keras import Sequential\n",
    "from tensorflow.keras.optimizers import Adam, RMSprop"
   ]
  },
  {
   "cell_type": "code",
   "execution_count": 81,
   "metadata": {},
   "outputs": [],
   "source": [
    "model = Sequential([\n",
    "  DenseFeatures(feature_columns),\n",
    "  Dense(128, activation='relu'),\n",
    "  Dense(64, activation='relu'),\n",
    "  Dense(1, activation='sigmoid')\n",
    "])\n",
    "\n",
    "model.compile(optimizer=Adam(lr=0.0001),\n",
    "              loss='binary_crossentropy',\n",
    "              metrics=['accuracy'])"
   ]
  },
  {
   "cell_type": "code",
   "execution_count": 82,
   "metadata": {},
   "outputs": [],
   "source": [
    "batch_size = 32\n",
    "train_ds = df_to_dataset(train, batch_size=batch_size)\n",
    "val_ds = df_to_dataset(val, shuffle=False, batch_size=batch_size)\n",
    "test_ds = df_to_dataset(test, shuffle=False, batch_size=batch_size)"
   ]
  },
  {
   "cell_type": "code",
   "execution_count": 83,
   "metadata": {},
   "outputs": [
    {
     "name": "stdout",
     "output_type": "stream",
     "text": [
      "Epoch 1/15\n",
      "14/14 [==============================] - 1s 65ms/step - loss: 2.3813 - accuracy: 0.6562 - val_loss: 2.0448 - val_accuracy: 0.6286\n",
      "Epoch 2/15\n",
      "14/14 [==============================] - 1s 48ms/step - loss: 1.5745 - accuracy: 0.6642 - val_loss: 1.1441 - val_accuracy: 0.6286\n",
      "Epoch 3/15\n",
      "14/14 [==============================] - 1s 47ms/step - loss: 0.7429 - accuracy: 0.6621 - val_loss: 0.7922 - val_accuracy: 0.6000\n",
      "Epoch 4/15\n",
      "14/14 [==============================] - 1s 48ms/step - loss: 0.6846 - accuracy: 0.6906 - val_loss: 0.8049 - val_accuracy: 0.5429\n",
      "Epoch 5/15\n",
      "14/14 [==============================] - 1s 49ms/step - loss: 0.6564 - accuracy: 0.6846 - val_loss: 0.7727 - val_accuracy: 0.6286\n",
      "Epoch 6/15\n",
      "14/14 [==============================] - 1s 48ms/step - loss: 0.6208 - accuracy: 0.6942 - val_loss: 0.7377 - val_accuracy: 0.6000\n",
      "Epoch 7/15\n",
      "14/14 [==============================] - 1s 48ms/step - loss: 0.6141 - accuracy: 0.7078 - val_loss: 0.7347 - val_accuracy: 0.6000\n",
      "Epoch 8/15\n",
      "14/14 [==============================] - 1s 49ms/step - loss: 0.5996 - accuracy: 0.6997 - val_loss: 0.7167 - val_accuracy: 0.6286\n",
      "Epoch 9/15\n",
      "14/14 [==============================] - 1s 48ms/step - loss: 0.5845 - accuracy: 0.7114 - val_loss: 0.7106 - val_accuracy: 0.6095\n",
      "Epoch 10/15\n",
      "14/14 [==============================] - 1s 48ms/step - loss: 0.5789 - accuracy: 0.7195 - val_loss: 0.7051 - val_accuracy: 0.6000\n",
      "Epoch 11/15\n",
      "14/14 [==============================] - 1s 48ms/step - loss: 0.5718 - accuracy: 0.7276 - val_loss: 0.6957 - val_accuracy: 0.6190\n",
      "Epoch 12/15\n",
      "14/14 [==============================] - 1s 48ms/step - loss: 0.5706 - accuracy: 0.7339 - val_loss: 0.6965 - val_accuracy: 0.6190\n",
      "Epoch 13/15\n",
      "14/14 [==============================] - 1s 47ms/step - loss: 0.5642 - accuracy: 0.7385 - val_loss: 0.6868 - val_accuracy: 0.6286\n",
      "Epoch 14/15\n",
      "14/14 [==============================] - 1s 48ms/step - loss: 0.5539 - accuracy: 0.7287 - val_loss: 0.6824 - val_accuracy: 0.6476\n",
      "Epoch 15/15\n",
      "14/14 [==============================] - 1s 47ms/step - loss: 0.5487 - accuracy: 0.7398 - val_loss: 0.6802 - val_accuracy: 0.6381\n"
     ]
    }
   ],
   "source": [
    "h = model.fit(train_ds, \n",
    "              validation_data=val_ds, \n",
    "              epochs=15)"
   ]
  },
  {
   "cell_type": "code",
   "execution_count": 90,
   "metadata": {},
   "outputs": [
    {
     "data": {
      "image/png": "[encoded data removed]",
      "text/plain": [
       "<Figure size 432x288 with 1 Axes>"
      ]
     },
     "metadata": {
      "needs_background": "light"
     },
     "output_type": "display_data"
    }
   ],
   "source": [
    "pd.DataFrame(h.history).plot()\n",
    "plt.ylim(0, 1)\n",
    "plt.axhline(baseline, c='black');"
   ]
  },
  {
   "cell_type": "code",
   "execution_count": 85,
   "metadata": {},
   "outputs": [
    {
     "name": "stdout",
     "output_type": "stream",
     "text": [
      "5/5 [==============================] - 0s 24ms/step - loss: 0.5743 - accuracy: 0.7328\n",
      "Accuracy 0.73282444\n"
     ]
    }
   ],
   "source": [
    "loss, accuracy = model.evaluate(test_ds)\n",
    "print(\"Accuracy\", accuracy)"
   ]
  },
  {
   "cell_type": "markdown",
   "metadata": {},
   "source": [
    "## Exercise "
   ]
  },
  {
   "cell_type": "markdown",
   "metadata": {},
   "source": [
    "Add other feature columns and iterate to improve the model"
   ]
  },
  {
   "cell_type": "code",
   "execution_count": null,
   "metadata": {},
   "outputs": [],
   "source": []
  }
 ],
 "metadata": {
  "kernelspec": {
   "display_name": "Python 3",
   "language": "python",
   "name": "python3"
  },
  "language_info": {
   "codemirror_mode": {
    "name": "ipython",
    "version": 3
   },
   "file_extension": ".py",
   "mimetype": "text/x-python",
   "name": "python",
   "nbconvert_exporter": "python",
   "pygments_lexer": "ipython3",
   "version": "3.7.2"
  }
 },
 "nbformat": 4,
 "nbformat_minor": 2
}
